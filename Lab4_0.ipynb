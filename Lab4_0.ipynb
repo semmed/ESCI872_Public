{
 "cells": [
  {
   "cell_type": "markdown",
   "metadata": {},
   "source": [
    "<img align=\"center\" width=\"12%\" style=\"padding-right:10px;\" src=\"Images/Ccom.png\">"
   ]
  },
  {
   "cell_type": "markdown",
   "metadata": {},
   "source": [
    "# Tools for Ocean Mapping <a href=\"https://teams.microsoft.com/l/message/19:1d3bdf3a4ee4470a813c785bca4afe73@thread.tacv2/1664904942503?tenantId=d6241893-512d-46dc-8d2b-be47e25f5666&groupId=5895182f-c6a0-4f7b-966d-a2cde205d8e8&parentMessageId=1664904942503&teamName=ESCI%20872%202022&channelName=Term%20Exercise&createdTime=1664904942503&allowXTenantAccess=false\"><img src=\"Images/help.png\"  title=\"Ask questions on Teams\" align=\"right\" width=\"10%\" alt=\"Teams.com\"></a><br><br> Step 4: Handling Positioning Data \n",
    "\n"
   ]
  },
  {
   "cell_type": "markdown",
   "metadata": {},
   "source": [
    "***"
   ]
  },
  {
   "cell_type": "markdown",
   "metadata": {},
   "source": [
    "## Creation of a Positioning Class\n",
    "\n",
    "For this lab you will create a positioning class - you will use this positioning class to hold data contained in a HYPACK data file. \n",
    "\n",
    "The first step consists of creating some code that opens a HYPACK data file and extracts [NMEA-0183](https://www.nmea.org/content/STANDARDS/NMEA_0183_Standard) position strings from this file.\n",
    "\n",
    "The next step is then to use a positioning class object to parse the data and store the data. \n",
    "\n",
    "The final step is to then create a write method to write the data to file"
   ]
  },
  {
   "cell_type": "markdown",
   "metadata": {},
   "source": [
    "***"
   ]
  },
  {
   "cell_type": "markdown",
   "metadata": {},
   "source": [
    "## Overview\n",
    "\n",
    "\n",
    "### The Data\n",
    "\n",
    "<img align=\"left\" width=\"100%\" style=\"padding-right:10px; padding-top:10px;\" src=\"Images/rvcs_group.jpg\"><br>\n",
    "\n",
    "The data provided here were collected by the <ins>RV</ins> <ins>C</ins>oastal <ins>S</ins>urveyor. [RVCS](http://ccom.unh.edu/facilities/research-vessels/rv-coastal-surveyor) was a 12 m long research vessel operated by [CCOM/JHC](http://ccom.unh.edu) for hydrographic research and education. RVCS has since been succeeded by the [RV Gulf Surveyor](http://ccom.unh.edu/facilities/research-vessels/rv-gulf-surveyor).\n",
    "\n",
    "RVCS used a POS/MV 320 V4 for positioning and orientation. In the case of this lab the positioning is RTK GPS data generated at 1Hz and representing the origin of the <ins>V</ins>essel <ins>R</ins>eference <ins>F</ins>rame (VRF).\n",
    "\n",
    "The RVCS was operating in the coastal waters of Maine in the immediate [vicinity of Portsmouth, New Hampshire](https://www.google.com/maps/@43.0714414,-70.3997656,9.67z). The data was obtained while RVCS was on station to obtain [benthic](https://oceanservice.noaa.gov/facts/benthic.html) video to support habitat mapping\n",
    "\n",
    "As we has seen in class positioning is done relative to a model of the Earth. For horizontal positioning a biaxial ellipsoidal model such as associated to [WGS84](https://earth-info.nga.mil/index.php?dir=wgs84&action=wgs84) is used. The semi-major axis then describes the radius of the equator and the semi-minor axis defines the distance from the equatorial plane to the poles. You will learn more about this subject in the Geodesy course.\n",
    "\n",
    "Normally, one of three vertical referencing approaches is used:\n",
    "\n",
    "1. **Ellipsoid** Referenced – ERS,\n",
    "2. **[Chart Datum](https://tidesandcurrents.noaa.gov/datum_options.html)** Referenced - CRS\n",
    "3. **Geoid** Referenced - GRS\n",
    "\n",
    "At this point in time we do not need elevation data, but we should ensure that we handle the data correctly so that in the future you use the same class for different purposes. Having the ability to use a class in more than software project is one of the key reasons that we use <ins>O</ins>bject <ins>O</ins>riented <ins>P</ins>rogramming\n"
   ]
  },
  {
   "cell_type": "markdown",
   "metadata": {},
   "source": [
    "### Using CRS\n",
    "\n",
    "Historically it was much more difficult to establish height above the ellipsoid (vertical position by **elevation**) than to establish the position along its surface (horizontal position by **geodetic latitude and longitude**). Thus often vessels were positioned by latitude and longitude using a positioning system. The vertical location was then estimated by combining water level observations at a tide gauge with an estimation of the draft of the vessel using some model for transferring the observed water level to your location.\n",
    "\n",
    "A problem that occurs is that the sea state at the gauge and the vessel are different. This is addressed by filtering out the wave action at the gauge and observing  the vertical motions of the vessel due to sea state (**heave**). These heave measurements then need to be applied to the sensor observations.\n",
    "\n",
    "Another problem that occurs is that the entire vessel will move up and down in the water as a function of the speed with which it moves through the water, a phenomenon known as **settlement**. Also its bow will either pitch up or down, a phenomenon known as **squat**. To correct the sensor observations it is then necessary to create a model of the settlement and squat as a function of speed through the water.\n",
    "\n",
    "To correctly position the sonar transducers it was thus necessary to\n",
    "1. Observe water levels at a tide gauge and transfer the observations to your location using some model\n",
    "2. Observe speed through water using a **log** (device that measures speed though water) and estimate the resultant vertical motion through some settlement and squat model\n",
    "3. Observe the heave and apply it to the observed data\n",
    "4. Correct the observed data for the vertical motion induced through roll, pitch and yaw\n",
    "\n",
    "### Using ERS\n",
    "\n",
    "With the advent of positioning using **Global Navigation Satellite Sytems (GNSS)** such as GPS (USA), GLONASS (Russia), Beidou (China), Galileo (Eurpoean Union), IRNSS (India) and QZSS (Japan) it has become possible to directly estimate height above the ellipsoid with sufficient accuracy. This has obviated the need for observing many of the parameters other than the motion of the vessel, thereby greatly simplifying and enhancing the quality of positioning at sea. However, we still do need to correct for the motion of the vessel.\n",
    "\n",
    "Note that if the depth data are to be referenced to a chart datum a model needs to be available to map the ellipsoid referenced data to chart datum. If such a model is not available, water level data needs to be collected to enable the creation of one. However, this does not have to occur at the same time as depth data collection (unlike CRS surveys)\n",
    "\n",
    "\n",
    "### Using GRS\n",
    "\n",
    "In our case we will reference the data to the EGM2008 **geoid** associated to WGS84. Much like a reference ellipsoid a geoid is a model of the Earth, however, a far more complex one. A geoid is a model of an equipotential gravity surface whose potential is chosen so that it most closely fits <ins>M</ins>ean <ins>S</ins>ea <ins>L</ins>evel (MSL). A fundamental property of a geoid is then that it is aligned everywhere to the local horizon plane (You will learn more about geoids in the Geodesy course).\n",
    "\n",
    "Reference ellipsoids are usually defined so that they most closely resemble a geoid model. Differences between MSL and geoids typically range on the order of a few meters, whereas differences between ellipsoids and their associated geoids may range up to hundreds of meters.\n",
    "\n",
    "The difference in height between a geoid and ellipsoid are known as undulations. In the case of the EGM2008 geoid there are well established undulations between it and the **WGS84** ellipsoid used by the Navstar Global Positioning System (**GPS**)\n",
    "\n",
    "For simplicity, this lab does not entail the datum shift aspects required for CRS solutions, merely reduction of the array-relative ranges to the geoid using the orthometric heights of the ship's reference frame origin, as provided by the POSMV 320\n"
   ]
  },
  {
   "cell_type": "markdown",
   "metadata": {},
   "source": [
    "***"
   ]
  },
  {
   "cell_type": "markdown",
   "metadata": {},
   "source": [
    "<img align=\"left\" width=\"6%\" style=\"padding-right:10px;\" src=\"./Images/info.png\"> \n",
    "\n",
    "## Lab Implementation in Python\n",
    "\n",
    "This lab assumes a basic familiarity with Python at the level reached upon completion of the ePOM [**Programming Basics with Python for Ocean Mapping**](../python_basics) and [**Foundations of Ocean Data Science**](../ocean_data_science) sets of notebooks.\n",
    "\n",
    "If you are already well versed in programming with Python you are free to move through the steps ahead of when they are assigned.\n",
    "\n",
    "As part of the labs in this course you will be developing Python classes that may be used in other courses as well.\n",
    "\n",
    "The goal is not too develop the most elegant and/or efficient code possible, but to have you write code that helps you achieve the learning objectives of the labs.\n",
    "\n",
    "___\n",
    "\n",
    "<img align=\"left\" width=\"6%\" style=\"padding-right:10px;\" src=\"./Images/key.png\"> \n",
    "Note that you are free to design your own code in Python or another language. If you decide to do so you have to demonstrate ***equivalency*** of the deliverables. Also, we will be happy to support any coding questions for those following the (Python) instructions provided here, but can not provide the same level of service for those using different algorithms and/or programming languages."
   ]
  },
  {
   "cell_type": "markdown",
   "metadata": {},
   "source": [
    "***"
   ]
  },
  {
   "cell_type": "markdown",
   "metadata": {},
   "source": [
    "\n",
    "# Step 0: Creating Classes\n",
    "\n",
    "In this step you will a class that can hold positioning data and associated metadata. \n",
    "\n",
    "After completion of this step an `object` of this class type will not do much yet. At this point you will only create the class definitions and their data attributes. "
   ]
  },
  {
   "cell_type": "markdown",
   "metadata": {},
   "source": [
    "***"
   ]
  },
  {
   "cell_type": "code",
   "execution_count": 1,
   "metadata": {},
   "outputs": [],
   "source": [
    "%load_ext autoreload\n",
    "%autoreload 2\n",
    "\n",
    "import sys\n",
    "import os\n",
    "import numpy as np\n",
    "\n",
    "sys.path.append(os.getcwd())  # add the current folder to the list of paths where Python looks for modules \n",
    "abs_path=os.path.abspath(os.path.curdir)"
   ]
  },
  {
   "cell_type": "markdown",
   "metadata": {},
   "source": [
    "Similarly to what is described in the [*Class Definition*](../python_basics/008_A_Class_as_a_Data_Container.ipynb#Class-Definition) notebook, we start by creating a class definition. In this case, the class will be named `Position` and will have a `\"\"\"A Class for handling Position Data\"\"\"` docstring."
   ]
  },
  {
   "cell_type": "markdown",
   "metadata": {},
   "source": [
    "***"
   ]
  },
  {
   "cell_type": "markdown",
   "metadata": {},
   "source": [
    "## 0.0 Creating the Class `Position`"
   ]
  },
  {
   "cell_type": "markdown",
   "metadata": {},
   "source": [
    "<img align=\"left\" width=\"6%\" style=\"padding-right:10px;\" src=\"./Images/key.png\">\n",
    "\n",
    "In this step you will create a class `Position`."
   ]
  },
  {
   "cell_type": "markdown",
   "metadata": {},
   "source": [
    "<img align=\"left\" width=\"6%\" style=\"padding-right:10px;\" src=\"./Images/test.png\">\n",
    "\n",
    "Modify the mostly empty `position.py` file located in the `mycode` folder to successfully execute the code in the code cell below.\n",
    "\n",
    "To define the class you may use:\n",
    "    \n",
    "    class Position:\n",
    "        \"\"\"A Class for handling Position Data\"\"\"\n",
    "\n",
    "        def __init__(self):\n",
    "            pass\n",
    "\n",
    "\n",
    "The print statement should result in the string: `The object type is <class 'mycode.position.Position'>` You may achieve this by adding the \\_\\_str\\_\\_ method\n",
    "\n",
    "    def __str__(self): "
   ]
  },
  {
   "cell_type": "code",
   "execution_count": 2,
   "metadata": {},
   "outputs": [
    {
     "name": "stdout",
     "output_type": "stream",
     "text": [
      "The object type is <class 'mycode.position.Position'>\n"
     ]
    }
   ],
   "source": [
    "from mycode.position import Position\n",
    "from datetime import datetime\n",
    "\n",
    "# positions\n",
    "pos = Position()\n",
    "print(\"The object type is %s\" % (type(pos)))"
   ]
  },
  {
   "cell_type": "markdown",
   "metadata": {},
   "source": [
    "***"
   ]
  },
  {
   "cell_type": "markdown",
   "metadata": {},
   "source": [
    "## 2.1 Class Initialization and Attributes"
   ]
  },
  {
   "cell_type": "markdown",
   "metadata": {},
   "source": [
    "We can now add a few attributes to the previously defined `Position` class:\n",
    "\n",
    "* Four lists (named `times`, `latitudes`, `longitudes` and `heights` respectively\n",
    "* A string called `data_path`\n",
    "* a numpy array called proj_pos\n",
    "* A `metadata` dictionary with the following pairs of key and value:\n",
    "  * `\"geodetic_units\"`: `\"rad\"` for the unit the geodetic latitudes and longitudes\n",
    "  * `\"height_units\"`: `\"m\"` for the units of elevations\n",
    "  * `\"proj_units\"`: `\"m\"` for the units of projected coordinates\n",
    "  * `\"geoid_name\"`: `None` For the name of the geoid used\n",
    "  * `\"ellipsoid_name\"`: `None` For the name of the ellipsoid used\n",
    "  * `\"height_relative_to\"`: `None` For the name of the vertical datum used\n",
    "  * `\"time_basis\"`: `\"UTC\"` The times are `Universal Time Coordinated`\n",
    "  * `\"proj_str\"`: '\"Unknown\"' For the string used for projecting coordinates\n",
    "  \n",
    "An empty list may be declared by a statement such as:\n",
    "\n",
    "    my_list = []\n",
    "\n",
    "Similarly an empty string is declared by:\n",
    "\n",
    "    my_string = str()\n",
    "    \n",
    "As you may see the `numpy` package is imported as `np`. Thus to create an empty `numpy` array we may use:\n",
    "\n",
    "    my_np_array = np.array([])\n",
    "    \n",
    "Finally an empty dictionary is declared by:\n",
    "    \n",
    "    my_dict = dict()\n",
    "\n",
    "\n",
    "As described in [*Class Initialization and Attributes*](../../python_basics/008_A_Class_as_a_Data_Container.ipynb#Class-Initialization-and-Attributes), the 0initialization of the class attributes happens in the *magic* `__init__(self)` method. "
   ]
  },
  {
   "cell_type": "markdown",
   "metadata": {},
   "source": [
    "## 2.2 The String Representation Method"
   ]
  },
  {
   "cell_type": "markdown",
   "metadata": {},
   "source": [
    "Create a `__str__` method for the Position class in similar fashion as the one you created previously for the Water Level class. We also want to print the start and end time and the geographic area covered. However, just like for the Water Level class, at this point there are no data yet. You must make the printing of the time and positioning data conditional upon data being present. \n",
    "\n",
    "print the `pos` object "
   ]
  },
  {
   "cell_type": "code",
   "execution_count": 11,
   "metadata": {},
   "outputs": [
    {
     "name": "stdout",
     "output_type": "stream",
     "text": [
      "geodetic_units: rad\n",
      "height_units: m\n",
      "proj_units: m\n",
      "geoid_name: EGM08\n",
      "ellipsoid_name: WGS84\n",
      "height_relative_to: geoid\n",
      "time_basis: UTC\n",
      "proj_str: None\n",
      "\n"
     ]
    }
   ],
   "source": [
    "print(pos)"
   ]
  },
  {
   "cell_type": "markdown",
   "metadata": {},
   "source": [
    "The output should read:\n",
    "\n",
    "    geodetic_units: rad\n",
    "    height_units: m\n",
    "    proj_units: m\n",
    "    geoid_name: None\n",
    "    ellipsoid_name: None\n",
    "    height_relative_to: None\n",
    "    time_basis: UTC\n",
    "    proj_str: None"
   ]
  },
  {
   "cell_type": "markdown",
   "metadata": {},
   "source": [
    "# 3 Geodetic Referencing\n",
    "\n",
    "Before we go on we need to discuss positioning a little.\n",
    "\n",
    "<img align=\"center\" width=\"50%\" style=\"padding-right:10px;\" src=\"Images/GeoidEllipsoid.png\">\n",
    "\n",
    "In this lab we will create a  `ParseNMEA0183_GGA()` method which we will use to read positioning data. However, positioning data is useless without knowing what the positioning is relative to. Clearly we want to position ourselves relative to the Earth, which means that we need some geometrical description of it. We should not use the topography of the Earth as the model, otherwise both *Mount Everest* and the *Marianas Trench* would have an elevation of 0 m. Commonly people refer to elevations relative to sea level - however this is problematic as not the entire Earth is covered by an ocean. In reality a proxy is used to MSL, namely an equipotential gravity field that is a best fit to it. This equipotential field is known as the **Geoid** which in the figure above is represented in blue. \n",
    "\n",
    "For vertical positioning the geoid is a good datum as the distance from it predicts the potential energy of an object of given mass through $E_{pot}=mgh$, where $h$ is the orthogonal distance from the surface of the geoid. \n",
    "The height data in your data file are relative to the **EGM08** geoid model. \n",
    "\n",
    "For calculating distances along the surface of the geoid model ambiguities may occur due to its irregular nature, thus we usually use a simple geometric shape that approximates the geoid and on which we can define distances and horizontal coordinates uniquely, such a model is shown in orange in the figure above. \n",
    "\n",
    "<img align=\"center\" width=\"50%\" style=\"padding-right:10px;\" src=\"Images/Ellipsoid.png\">\n",
    "\n",
    "In this case the data is relative to a **geodetic datum**, consisting of an oblate ellipse of revolution - that is: a 2-D ellipse that is rotated around its semi-minor axis, as shown in the figure above. The origin of these models sit on the modeled center of gravity of the Earth, the semi-minor axis is aligned to the Earth's rotational axis and the semi-major axis sweeps the equatorial plane. \n",
    "\n",
    "There are many possible geodetic datums that may be used. Historically we used ellipsoid that locally best fit the geoid, but with the advent of Global Navigation Satellite Systems (**GNSS**) a shift towards the use of global datums has taken place. The **GPS** system uses the **WGS84** geodetic datum, which is what coordinates in your data file are relative to.\n",
    "\n",
    "<img align=\"center\" width=\"80%\" style=\"padding-right:10px;\" src=\"Images/Geodetic_LL.png\">\n",
    "\n",
    "The coordinates given to you are knowns as **geodetic latitudes and longitudes**, that is: latitudes and longitudes relative to a geodetic datum. First we will have to define what meridians and parallels are before we can express what latitudes and longitudes are.\n",
    "\n",
    "The **poles** of the geoid are where the semi-minor axis intersects the ellipsoid. A Meridian is then the intersection of the plane containing both the poles and a point of interest. This plane is inherently orthogonal to the equatorial plane and the intersection with the ellipsoid is an ellipse referred to as a meridian. All points in this plane on one side of the semi-minor axis are said to have the same longitude, all points on the other side are offset by $180^{\\circ}$. The difference in **geodetic longitude** between two points is then the angle in the equatorial plane between the meridians associated to them. To provide a useful datum a zero meridian has been chosen, it goes through a point near the **Greenwich** Royal observatory in England. The figure above left then illustrates longitude $\\lambda$ relative to the Greenwich meridian $\\lambda_0$. \n",
    "\n",
    "All points in an equidistant plane from the equatorial plane are said to have the same latitude. There are many 'flavors' of latitude, but the one that is most commonly used for positioning is named **geodetic latitude**. Geodetic latitude is defined by the line tangent to the meridian at the point of interest. Geodetic latitude $\\varphi$ is then the angle between the line orthogonal to the tangent and the equatorial plane $\\varphi_0$, as shown in the figure above on the right\n",
    "\n",
    "## 3.0 Set the reference ellipsoid and geoid\n",
    "\n",
    "In the HYPACK text file containing the coordinates no meta-data indicating the georeferencing parameters is included. In this case we are using orthometric heights relative to EGM08, and geodetic latitudes and longitudes relative to WGS84. <br>\n",
    "\n",
    "<img align=\"left\" width=\"6%\" style=\"padding-right:10px;\" src=\"Images/test.png\"><br>\n",
    "Create a `ParseNMEA0183_GGA()` method for the `Position` class to parse GGA records. The method will take and set the metadata parameters for `geoid_name`, `ellipsoid_name`, and `height_relative_to` (as the heights are orthometric this should be set to \"geoid\")\n",
    "<br><br>\n",
    "In order to do this you may copy the template below into the python.py file.\n",
    "    \n",
    "                \n",
    "    def ParseNMEA0183_GGA(self, dt_str, geoid_name, ellipsoid_name, height_relative_to, date = None)\n",
    "\n",
    "        # Get the GGA string and tokenize it\n",
    "        gga_data = dt_str.split(',')\n",
    "\n",
    "        # verify that we have a GGA string\n",
    "        if not gga_data[0][-3:] == \"GGA\":\n",
    "            raise RuntimeError(\n",
    "                    'ParseNMEA0183_GGA: argument `dt_str` must be a GGA message')\n",
    "\n",
    "        self.metadata[\"geoid_name\"] = geoid_name\n",
    "        self.metadata[...] = ellipsoid_name\n",
    "        self.metadata[...] = height_relative_to\n",
    "\n",
    "You do not have to do anything other than filling in the code where the ellipsis (...) are. Once you have done this the output of the code cell below should match \n"
   ]
  },
  {
   "cell_type": "code",
   "execution_count": 6,
   "metadata": {},
   "outputs": [
    {
     "name": "stdout",
     "output_type": "stream",
     "text": [
      "pos:\n",
      " geodetic_units: rad\n",
      "height_units: m\n",
      "proj_units: m\n",
      "geoid_name: EGM08\n",
      "ellipsoid_name: WGS84\n",
      "height_relative_to: geoid\n",
      "time_basis: UTC\n",
      "proj_str: None\n",
      "\n"
     ]
    }
   ],
   "source": [
    "pos.ParseNMEA0183_GGA('GPGGA',\"EGM08\",\"WGS84\", \"geoid\")\n",
    "print(\"pos:\\n\", pos)"
   ]
  },
  {
   "cell_type": "markdown",
   "metadata": {},
   "source": [
    "    pos:\n",
    "     geodetic_units: rad\n",
    "    height_units: m\n",
    "    proj_units: m\n",
    "    geoid_name: EGM08\n",
    "    ellipsoid_name: WGS84\n",
    "    height_relative_to: geoid\n",
    "    time_basis: UTC\n",
    "    proj_str: None"
   ]
  },
  {
   "cell_type": "markdown",
   "metadata": {},
   "source": [
    "# 4 Parsing HYPACK data\n",
    "\n",
    "In our case the NMEA 0183 GGA records holding the position data are embedded in the HYPACK file - we will need to extract them and then parse them with the `ParseNMEA0183_GGA` method we just created. For this we will create the `read_hypack_raw_file` method that does the file handling for the HYPACK files, finds the GGA strings and then calls the `ParseNMEA0183_GGA` method. Off course we will need the `ParseNMEA0183_GGA` to actually make it parse the data\n",
    "\n",
    "    def read_hypack_raw_file(self, fullpath):\n",
    "        \n",
    "        # This function will currently only function provided that there are GGA sentences \n",
    "        # in the records.\n",
    "        # You may update the function to include other positioning messages as well, but \n",
    "        # this is outside the scope of the class\n",
    "                        \n",
    "        # Check the File's existence\n",
    "        if os.path.exists(fullpath):\n",
    "            self.data_path = fullpath\n",
    "            print('Opening GNSS data file:' + fullpath)\n",
    "        else:  # Raise a meaningful error\n",
    "            raise RuntimeError('Unable to locate the input file' + fullpath)\n",
    "            \n",
    "        # Open, read and close the file\n",
    "        hypack_file = open(fullpath)\n",
    "        hypack_content = hypack_file.read()\n",
    "        hypack_file.close    \n",
    "\n",
    "        # Split the file in lines\n",
    "        hypack_records = hypack_content.splitlines()\n",
    "        \n",
    "        # Go through the header lines to find the date of the survey \n",
    "        # (not contained in the GGA records)\n",
    "        \n",
    "        lines_parsed=0\n",
    "        for hypack_record in hypack_records:\n",
    "            \n",
    "            # Check for the time and date\n",
    "            \n",
    "            if hypack_record[:3].lower() == \"tnd\":\n",
    "                hypack_datetime=datetime.strptime(hypack_record[4:23], \"%H:%M:%S %m/%d/%Y\")\n",
    "                \n",
    "                print(\"HYPACK RAW Header start time and date: \" + hypack_datetime.ctime())\n",
    "                \n",
    "            # Keep track of the lines parsed\n",
    "            lines_parsed+=1\n",
    "\n",
    "            # Stop going through the records if the record starts with the string eoh \n",
    "            # (End Of Header)\n",
    "            if hypack_record[:3].lower() == \"eoh\":\n",
    "                break         \n",
    "        \n",
    "        # Keep track of the number of GGA records found\n",
    "        \n",
    "        num_gga_recs=0\n",
    "        \n",
    "        for hypack_record in hypack_records[lines_parsed:]:\n",
    "\n",
    "            if hypack_record[19:22] == \"GGA\":\n",
    "                gga_data=hypack_record.split()[3]\n",
    "                print(gga_data)\n",
    "                \n",
    "___\n",
    "## 4.0 Parsing HYPACK data\n",
    "\n",
    "Copy the code above and add it to your `Positions` class. Make sure to inspect the code and see whether you understand what it does. Test its functionality by executing the code cell below."
   ]
  },
  {
   "cell_type": "code",
   "execution_count": 12,
   "metadata": {},
   "outputs": [
    {
     "name": "stdout",
     "output_type": "stream",
     "text": [
      "Opening GNSS data file:/home/jupyter-semmed/ESCI_872/Data/000_1029.RAW\n",
      "HYPACK RAW Header start time and date: Tue Jul  3 10:29:07 2012\n"
     ]
    }
   ],
   "source": [
    "# The Positions class is designed to be able to hold data from multiple files\n",
    "# this may create memory management issues while developing. \n",
    "# To avoid this we will simply create a new Position object every time this \n",
    "# cell gets executed\n",
    "\n",
    "positions = Position()\n",
    "positions.read_hypack_raw_file(abs_path+'/Data/000_1029.RAW')"
   ]
  },
  {
   "cell_type": "markdown",
   "metadata": {},
   "source": [
    "    \n",
    "    Opening GNSS data file:/home/jupyter-semmed/ESCI_872/Data/000_1029.RAW\n",
    "    HYPACK RAW Header start time and date: Tue Jul  3 10:29:07 2012\n",
    "    $GPGGA,143026,4303.0241,N,07038.7748,W,1,09,0.9,10.2,M,-32.4,M,,*4A\n",
    "    $GPGGA,143027,4303.0241,N,07038.7748,W,1,09,0.9,10.3,M,-32.4,M,,*4A\n",
    "    $GPGGA,143028,4303.0241,N,07038.7749,W,1,09,0.9,10.4,M,-32.4,M,,*4\n",
    "    ..."
   ]
  },
  {
   "cell_type": "markdown",
   "metadata": {},
   "source": [
    "___\n",
    "## 4.1 Calling the GGA String Parser\n",
    "\n",
    "Success! Well, partially. The bit off code given to you strips out the GGA strings from the HYPACK file, but we're not doing anything yet with them. It also should be pointed out at this time that GGA strings have a severe limitation, they do not include a date! We will deal with this in other courses, but its worth while pointing out here.\n",
    "\n",
    "GGA strings are so commonly used that they deserve their own method to be parsed. That way we do not have to recreate a GGA parser for any type of data file that has GGA strings embedded in it. At this point it may be worthwhile considering whether we should create a class for handling NMEA-0183 data. In our case the handling of the data in GGA strings is so specific to positioning that it is worthwhile to handle the parsing as part of the Position class.\n",
    "\n",
    "Replace the print(gga_data) in your read_hypack_raw_file() with a call to the ParseNMEA0183_GGA() method. Note that when you call a method from within the object itself you should use:\n",
    "\n",
    "    self.name_of_the_method_I_am_calling() \n",
    "\n",
    "and off-course replace name_of_the_method_I_am_calling with whatever the name of the method that you're calling is, and supply the appropriate arguments including the date."
   ]
  },
  {
   "cell_type": "code",
   "execution_count": 8,
   "metadata": {},
   "outputs": [
    {
     "name": "stdout",
     "output_type": "stream",
     "text": [
      "Opening GNSS data file:/home/jupyter-semmed/ESCI_872/Data/000_1029.RAW\n",
      "HYPACK RAW Header start time and date: Tue Jul  3 10:29:07 2012\n"
     ]
    }
   ],
   "source": [
    "# The Positions class is designed to be able to hold data from multiple files\n",
    "# this may create memory management issues while developing. \n",
    "# To avoid this we will simply create a new Position object every time this \n",
    "# cell gets executed\n",
    "\n",
    "positions = Position()\n",
    "positions.read_hypack_raw_file(abs_path+'/Data/000_1029.RAW')"
   ]
  },
  {
   "cell_type": "markdown",
   "metadata": {},
   "source": [
    "Note that the output of the exact same code as the previous code cell has changed (and if you re-execute that code cell the output there will change too):\n",
    "\n",
    "    Opening GNSS data file:/home/jupyter-semmed/ESCI_872/Data/000_1029.RAW\n",
    "    HYPACK RAW Header start time and date: Tue Jul  3 10:29:07 2012\n"
   ]
  },
  {
   "cell_type": "markdown",
   "metadata": {},
   "source": [
    "___\n",
    "## 4.2 Parsing the Time\n",
    "\n",
    "We pointed out at this time that GGA strings have a severe limitation, they do not include a date. For now we will just live with it and use a `timedelta` and supply a date - in this case the date of the header of the HYPACK file, which is contained in the local variable `hypack_datetime`. When you realize that a file may be opened before midnight and closed after you will understand that this is problematic. Since many survey ships operate 24/7 this is not a problem we should ignore, but we will to keep the scope of the lab limited.\n",
    "\n",
    "Add the following code to the `ParseNMEA0183_GGA()` method:\n",
    "\n",
    "        # Determine the time of day from both the header and the GGA string\n",
    "\n",
    "        gga_timedelta=timedelta(hours=int(gga_data[1][0:2]), \\\n",
    "                                 minutes = int(gga_data[1][2:4]), \\\n",
    "                                 seconds = int(gga_data[1][4:6]))\n",
    "        \n",
    "        # Set the time of the date to midnight\n",
    "        \n",
    "        date = datetime(date.year, date.month, date.day, 0, 0, 0)\n",
    "\n",
    "        self.times.append(date + gga_timedelta)\n"
   ]
  },
  {
   "cell_type": "code",
   "execution_count": 7,
   "metadata": {},
   "outputs": [
    {
     "name": "stdout",
     "output_type": "stream",
     "text": [
      "Opening GNSS data file:/home/jupyter-semmed/ESCI_872/Data/000_1029.RAW\n",
      "HYPACK RAW Header start time and date: Tue Jul  3 10:29:07 2012\n",
      "2012-07-03 14:30:26\n"
     ]
    }
   ],
   "source": [
    "positions = Position()\n",
    "positions.read_hypack_raw_file(abs_path+'/Data/000_1029.RAW')\n",
    "print(positions.times[0])"
   ]
  },
  {
   "cell_type": "markdown",
   "metadata": {},
   "source": [
    "    \n",
    "    Opening GNSS data file:/home/jupyter-semmed/ESCI_872/Data/000_1029.RAW\n",
    "    HYPACK RAW Header start time and date: Tue Jul  3 10:29:07 2012\n",
    "    2012-07-03 14:30:26\n"
   ]
  },
  {
   "cell_type": "markdown",
   "metadata": {},
   "source": [
    "___\n",
    "## 4.3 Parsing the Latitude\n",
    "\n",
    "In similar fashion to time we should add the latitude, Note that the latitude hemisphere is given in the 4th field and that we want the range to be $[-\\pi/2,\\pi/2]$\n",
    "\n",
    "Add the following code to the `ParseNMEA0183_GGA()` method:\n",
    "\n",
    "\n",
    "        # Parse the latitude\n",
    "        if gga_data[3].lower() == \"n\":\n",
    "            lat = float(gga_data[2][0:2])+float(gga_data[2][2:])/60.\n",
    "        else:\n",
    "            lat = -float(gga_data[2][0:2])-float(gga_data[2][2:])/60.\n",
    "        self.latitudes.append(lat)"
   ]
  },
  {
   "cell_type": "markdown",
   "metadata": {},
   "source": [
    "___\n",
    "## 4.4 Parsing the Longitude\n",
    "\n",
    "In similar fashion to latitude we should add the longitude, in this case we want the range to be $[-\\pi,\\pi]$\n",
    "\n",
    "Add the following code to the `ParseNMEA0183_GGA()` method:\n",
    "\n",
    "\n",
    "        # Parse the longitude\n",
    "        if gga_data[5].lower == ...:\n",
    "            lon = ...\n",
    "        else:\n",
    "            lon = ...\n",
    "        self.longitudes.append(lon)\n",
    "            \n",
    "and update it by filling in the ellipsis"
   ]
  },
  {
   "cell_type": "code",
   "execution_count": 8,
   "metadata": {},
   "outputs": [
    {
     "name": "stdout",
     "output_type": "stream",
     "text": [
      "Opening GNSS data file:/home/jupyter-semmed/ESCI_872/Data/000_1029.RAW\n",
      "HYPACK RAW Header start time and date: Tue Jul  3 10:29:07 2012\n",
      "-70.64624666666667\n"
     ]
    }
   ],
   "source": [
    "positions = Position()\n",
    "positions.read_hypack_raw_file(abs_path+'/Data/000_1029.RAW')\n",
    "print(positions.longitudes[0])"
   ]
  },
  {
   "cell_type": "markdown",
   "metadata": {},
   "source": [
    "    Opening GNSS data file:/home/jupyter-semmed/ESCI_872/Data/000_1029.RAW\n",
    "    HYPACK RAW Header start time and date: Tue Jul  3 10:29:07 2012\n",
    "    -70.64624666666667\n"
   ]
  },
  {
   "cell_type": "markdown",
   "metadata": {},
   "source": [
    "___\n",
    "## 4.5 Parsing the Quality\n",
    "\n",
    "As you have learned from researching the NMEA messages there is a quality indicator\n",
    "add an list `qualities` to the `Positions` class, and add the following code to the `ParseNMEA0183_GGA()` method:\n",
    "\n",
    "        # Parse the GNSS Quality indicator\n",
    "        q = ...\n",
    "        self.qualities.append(...)\n",
    "            \n",
    "and update it by filling in the ellipsis"
   ]
  },
  {
   "cell_type": "code",
   "execution_count": 9,
   "metadata": {},
   "outputs": [
    {
     "name": "stdout",
     "output_type": "stream",
     "text": [
      "Opening GNSS data file:/home/jupyter-semmed/ESCI_872/Data/000_1029.RAW\n",
      "HYPACK RAW Header start time and date: Tue Jul  3 10:29:07 2012\n",
      "1\n"
     ]
    }
   ],
   "source": [
    "positions = Position()\n",
    "positions.read_hypack_raw_file(abs_path+'/Data/000_1029.RAW')\n",
    "print(positions.qualities[0])"
   ]
  },
  {
   "cell_type": "markdown",
   "metadata": {},
   "source": [
    "\n",
    "    Opening GNSS data file:/home/jupyter-semmed/ESCI_872/Data/000_1029.RAW\n",
    "    HYPACK RAW Header start time and date: Tue Jul  3 10:29:07 2012\n",
    "    1\n"
   ]
  },
  {
   "cell_type": "markdown",
   "metadata": {},
   "source": [
    "___\n",
    "## 4.6 Parsing the Number of Satellites\n",
    "\n",
    "Next create a num_sats list and add the number of GNSS satellites in view\n",
    "\n",
    "        # Parse the number of GNSS satellites used for the solution\n",
    "        n_sats = ...\n",
    "        self.num_sats.append(...)\n",
    "            \n",
    "and update it by filling in the ellipsis"
   ]
  },
  {
   "cell_type": "code",
   "execution_count": 10,
   "metadata": {},
   "outputs": [
    {
     "name": "stdout",
     "output_type": "stream",
     "text": [
      "Opening GNSS data file:/home/jupyter-semmed/ESCI_872/Data/000_1029.RAW\n",
      "HYPACK RAW Header start time and date: Tue Jul  3 10:29:07 2012\n",
      "9\n"
     ]
    }
   ],
   "source": [
    "positions = Position()\n",
    "positions.read_hypack_raw_file(abs_path+'/Data/000_1029.RAW')\n",
    "print(positions.num_sats[0])"
   ]
  },
  {
   "cell_type": "markdown",
   "metadata": {},
   "source": [
    "\n",
    "    Opening GNSS data file:/home/jupyter-semmed/ESCI_872/Data/000_1029.RAW\n",
    "    HYPACK RAW Header start time and date: Tue Jul  3 10:29:07 2012\n",
    "    9\n"
   ]
  },
  {
   "cell_type": "markdown",
   "metadata": {},
   "source": [
    "___\n",
    "## 4.7 Parsing the Horizontal Dilution of Precision\n",
    "\n",
    "The dilution of precision gives a unit-less representation of the quality of geometry of the position solution. In the past it was likely that there were only a few GNSS satellites in view; there was then a strong possibility that an uneven distribution of the satellite along the sky would lead to strongly biased estimates of our position. The DOP number gives an indication of the strength of the geometry of the GNSS observations, but notably **not** the quality of the observations! You can improve the DOP by observing more GNSS constellations or by optimizing the point in time in which we do observations at a given location. The DOP at any location and time is predictable as the orbit parameters for the GNSS satellites are known.\n",
    "\n",
    "The **HDOP** is then a measure of the strength of the positioning geometry in the horizontal plane - the lower the number the better it is.\n",
    "\n",
    "Next create a hdops list and add the number of GNSS satellites in view\n",
    "\n",
    "        # Parse the HDOP Quality indicator\n",
    "        hdop = ...\n",
    "        self.hdops.append(...)\n",
    "            \n",
    "and update it by filling in the ellipsis\n",
    "\n",
    "___\n",
    "<img align=\"left\" width=\"6%\" style=\"padding-right:10px;\" src=\"./Images/info.png\"> <br><br><br>\n",
    "\n",
    "*If the following information means little to you you are free to ignore it. We will address it in the Geodesy and Positioning course.*\n",
    "    \n",
    "If you have already learned about the Method of the Least Squares it may interest you that the DOP is given by:\n",
    "\n",
    "$$DOP = \\sum_{i=1}^{4}\\left(\\text{trace}\\left(A^T\\cdot A\\right)^{-1}_i\\right)$$\n",
    "\n",
    "where:<br>\n",
    "$A$: Design matrix<br>\n",
    "$i$: Dimension<br>\n",
    "    \n",
    "Though the DOP itself is dimensionless $A$ is not. It is specified in an **isometric** Cartesian 4D coordinate system where the 1- and 2-axes are in the horizontal plane, the 3-axis is the up axis, and the 4- axis represents scaled time (the scalar being light celerity $c$). \n",
    "\n",
    "The **Design Matrix** $A$ is known as the **Jakobian** of the observation equations and thus only represents the observation geometry and not the accuracy of the observations. As mentioned before we are often interested in components of the position dilution of precision.\n",
    "\n",
    "Position DOP: \n",
    "$$PDOP = \\sum_{i=1}^{3}\\left(\\text{trace}\\left(A^T\\cdot A\\right)^{-1}_i\\right)$$\n",
    "Horizontal DOP: \n",
    "$$HDOP = \\sum_{i=1}^{2}\\left(\\text{trace}\\left(A^T\\cdot A\\right)^{-1}_i\\right)$$\n",
    "Vertical DOP:\n",
    "$$VDOP = \\sum_{i=3}^{3}\\left(\\text{trace}\\left(A^T\\cdot A\\right)^{-1}_i\\right)$$\n",
    "Time DOP:\n",
    "$$TDOP = \\sum_{i=4}^{4}\\left(\\text{trace}\\left(A^T\\cdot A\\right)^{-1}_i\\right)$$\n",
    "\n",
    "Careful analysis allows us to predict the uncertainty associated with positioning. Breaking down the DOP in components allows us to further refine the analysis i.e., if we are just interested in time we can analyze at what point in time the geometry of the GNSS satellites in the constellations that we may observe are distributed optimally for our location.\n",
    "___"
   ]
  },
  {
   "cell_type": "code",
   "execution_count": 11,
   "metadata": {},
   "outputs": [
    {
     "name": "stdout",
     "output_type": "stream",
     "text": [
      "Opening GNSS data file:/home/jupyter-semmed/ESCI_872/Data/000_1029.RAW\n",
      "HYPACK RAW Header start time and date: Tue Jul  3 10:29:07 2012\n",
      "0.9\n"
     ]
    }
   ],
   "source": [
    "positions = Position()\n",
    "positions.read_hypack_raw_file(abs_path+'/Data/000_1029.RAW')\n",
    "print(positions.hdops[0])"
   ]
  },
  {
   "cell_type": "markdown",
   "metadata": {},
   "source": [
    "    Opening GNSS data file:/home/jupyter-semmed/ESCI_872/Data/000_1029.RAW\n",
    "    HYPACK RAW Header start time and date: Tue Jul  3 10:29:07 2012\n",
    "    0.9\n"
   ]
  },
  {
   "cell_type": "markdown",
   "metadata": {},
   "source": [
    "___\n",
    "## 4.8 Parsing the Orthometric Height\n",
    "\n",
    "Read the orthometric height\n",
    "\n",
    "        # Parse the orthometric height \n",
    "        height = float(...)\n",
    "            \n",
    "and update it by filling in the ellipsis"
   ]
  },
  {
   "cell_type": "code",
   "execution_count": 12,
   "metadata": {},
   "outputs": [
    {
     "name": "stdout",
     "output_type": "stream",
     "text": [
      "Opening GNSS data file:/home/jupyter-semmed/ESCI_872/Data/000_1029.RAW\n",
      "HYPACK RAW Header start time and date: Tue Jul  3 10:29:07 2012\n"
     ]
    }
   ],
   "source": [
    "positions = Position()\n",
    "positions.read_hypack_raw_file(abs_path+'/Data/000_1029.RAW')"
   ]
  },
  {
   "cell_type": "markdown",
   "metadata": {},
   "source": [
    "    Opening GNSS data file:/home/jupyter-semmed/ESCI_872/Data/000_1029.RAW\n",
    "    HYPACK RAW Header start time and date: Tue Jul  3 10:29:07 2012"
   ]
  },
  {
   "cell_type": "markdown",
   "metadata": {},
   "source": [
    "We are not done with the height yet! Many GNSS receivers offer the possibility to output the GGA strings with height in feet. We want to ensure that we have meters. For now just testing the units and raising an error condition will suffice. If you ever run into the situation that you need to deal with feet you can always update the method.\n",
    "\n",
    "You can check the units by using the statement:\n",
    "\n",
    "    if not gga_data[10].lower() == \"m\":\n",
    "\n",
    "if the result is true i.e., the units are not meters, then you should `raise` a `RuntimeError` which displays the string: \n",
    "\n",
    "    raise RuntimeError('Orthomeric height units are not meters!')\n",
    "    \n",
    "Now that we know that we have a height in the right units append it to the heights list:\n",
    "\n",
    "    self.heights.append(...)"
   ]
  },
  {
   "cell_type": "code",
   "execution_count": 13,
   "metadata": {},
   "outputs": [
    {
     "name": "stdout",
     "output_type": "stream",
     "text": [
      "Opening GNSS data file:/home/jupyter-semmed/ESCI_872/Data/000_1029.RAW\n",
      "HYPACK RAW Header start time and date: Tue Jul  3 10:29:07 2012\n",
      "10.2\n"
     ]
    }
   ],
   "source": [
    "positions = Position()\n",
    "positions.read_hypack_raw_file(abs_path+'/Data/000_1029.RAW')\n",
    "print(positions.heights[0])"
   ]
  },
  {
   "cell_type": "markdown",
   "metadata": {},
   "source": [
    "___\n",
    "## 4.9 Parsing the Geoid Undulation\n",
    "\n",
    "Read the undulation height, check whether its units are in meters and, if so, add it to the undulations list. Make sure that the `RuntimeError` reads: *'Undulation height units are not meters!'*\n",
    "   \n",
    "\n",
    "        # Parse the geoid ellipsoid undulation\n",
    "        undulation = ...\n",
    "\n",
    "        if gga_data[12]...\n",
    "            raise ..."
   ]
  },
  {
   "cell_type": "code",
   "execution_count": 14,
   "metadata": {},
   "outputs": [
    {
     "name": "stdout",
     "output_type": "stream",
     "text": [
      "Opening GNSS data file:/home/jupyter-semmed/ESCI_872/Data/000_1029.RAW\n",
      "HYPACK RAW Header start time and date: Tue Jul  3 10:29:07 2012\n",
      "-32.4\n"
     ]
    }
   ],
   "source": [
    "positions = Position()\n",
    "positions.read_hypack_raw_file(abs_path+'/Data/000_1029.RAW')\n",
    "print(positions.undulations[0])"
   ]
  },
  {
   "cell_type": "markdown",
   "metadata": {},
   "source": [
    "___\n",
    "## 4.10 Interpreting the Geoid Undulation\n",
    "\n",
    "On the General channel of Teams discuss what the undulation value found means. Just think of the following question: Imagine that I build a house in the area of Portsmouth, NH i.e. close to the survey area, at an elevation of 10m below the WGS84 ellipsoid, would I have to worry about flooding on a regular basis?"
   ]
  },
  {
   "cell_type": "markdown",
   "metadata": {},
   "source": [
    "___\n",
    "## 4.11 Dealing with Base Station Data\n",
    "\n",
    "NMEA 0183 GGA string theoretically can identify the base station(s) used for position corrections. However, in practice this functionality is rarely used, even when using base stations. Here add the following code just for the sake of being complete\n",
    "\n",
    "    # If there is more data then parse it\n",
    "    corr_age = None\n",
    "    corr_station = None\n",
    "    if not gga_data[13] == \"\":\n",
    "        corr_ages.append(float(gga_data[13]))\n",
    "        corr_stations.append(float(gga_data[14][0:-3]))\n",
    "\n",
    "                \n",
    "                "
   ]
  },
  {
   "cell_type": "code",
   "execution_count": 15,
   "metadata": {
    "scrolled": true
   },
   "outputs": [
    {
     "name": "stdout",
     "output_type": "stream",
     "text": [
      "Opening GNSS data file:/home/jupyter-semmed/ESCI_872/Data/000_1029.RAW\n",
      "HYPACK RAW Header start time and date: Tue Jul  3 10:29:07 2012\n",
      "[]\n"
     ]
    }
   ],
   "source": [
    "positions = Position()\n",
    "positions.read_hypack_raw_file(abs_path+'/Data/000_1029.RAW')\n",
    "print(positions.corr_ages)"
   ]
  },
  {
   "cell_type": "markdown",
   "metadata": {},
   "source": [
    "    Opening GNSS data file:/home/jupyter-semmed/ESCI_872/Data/000_1029.RAW\n",
    "    HYPACK RAW Header start time and date: Tue Jul  3 10:29:07 2012\n",
    "    []\n"
   ]
  },
  {
   "cell_type": "markdown",
   "metadata": {},
   "source": [
    "___\n",
    "## 4.12 Checking 1, 2, 3...\n",
    "\n",
    "The last thing to do is to check the **Check sum error** value.\n",
    "\n",
    "        # Check the checksum given\n",
    "        checksum = 0\n",
    "        for c in dt_str[1:-3]:\n",
    "            checksum ^= np.fromstring(c, dtype=np.uint8)\n",
    "       \n",
    "        if not hex(int(checksum))[2:] == gga_data[-1][-2:].lower():\n",
    "            print('Checksum does not match, ignoring data')\n",
    " \n",
    "You should enter this code right after the gga_data = dt_str.split(',') statement in the ParseNMEA0183_GGA() method\n",
    "\n",
    "Though much may be written about  the checksum, here it is simply the sum of the exclusive-or (XOR) value of all the elements of the GGA string between the '$' and '*' characters.\n",
    "\n",
    "the ^ operator compares two equal length bit sequences. Only if the bits in the same position in the sequence have differing values is the outcome one so \n",
    "\n",
    "    0^0 = 0\n",
    "    0^1 = 1 \n",
    "    1^0 = 1 \n",
    "    1^1 = 0 \n",
    "    \n",
    "    0110^1100 = 1010\n",
    "\n",
    "Checksums are often to check whether the contents of data were altered during transmission. Calculating a checksum and comparing it with the transmitted checksum allows us to verify that the data was unaltered.\n",
    "\n",
    "___\n",
    "<img align=\"left\" width=\"6%\" style=\"padding-right:10px;\" src=\"./Images/info.png\"> <br><br><br>\n",
    "Here is a pretty comprehensive [article](https://hackernoon.com/xor-the-magical-bit-wise-operator-24d3012ed821) with some neat uses of XOR\n",
    "___\n",
    "                "
   ]
  },
  {
   "cell_type": "markdown",
   "metadata": {},
   "source": [
    "___\n",
    "## 4.13 Printing the Position Object, Again\n",
    "\n",
    "We have now added positioning data to the object - you may test that everything worked by calling the `print()` function. The latitude, longitude, and height extends should now be printed as well. If you followed the instructions this should not require any extra coding.\n",
    "\n",
    "Update the `__str__` method so that it also prints out the start and end times"
   ]
  },
  {
   "cell_type": "code",
   "execution_count": 16,
   "metadata": {},
   "outputs": [
    {
     "name": "stdout",
     "output_type": "stream",
     "text": [
      "Opening GNSS data file:/home/jupyter-semmed/ESCI_872/Data/000_1029.RAW\n",
      "HYPACK RAW Header start time and date: Tue Jul  3 10:29:07 2012\n",
      "geodetic_units: rad\n",
      "height_units: m\n",
      "proj_units: m\n",
      "geoid_name: EGM08\n",
      "ellipsoid_name: WGS84\n",
      "height_relative_to: geoid\n",
      "time_basis: UTC\n",
      "proj_str: None\n",
      "Minimum latitude       : 43.050372\n",
      "Maximum latitude       : 43.050402\n",
      "Minimum longitude      : -70.646248\n",
      "Maximum longitude      : -70.646167\n",
      "Minimum height         : 9.90m\n",
      "Maximum height         : 11.30m\n",
      "Start Time             : 2012-07-03 14:30:26\n",
      "End Time               : 2012-07-03 14:30:26\n",
      "\n"
     ]
    }
   ],
   "source": [
    "positions = Position()\n",
    "positions.read_hypack_raw_file(abs_path+'/Data/000_1029.RAW')\n",
    "print(positions)"
   ]
  },
  {
   "cell_type": "markdown",
   "metadata": {},
   "source": [
    "    Opening GNSS data file:/home/jupyter-semmed/ESCI_872/Data/000_1029.RAW\n",
    "    HYPACK RAW Header start time and date: Tue Jul  3 10:29:07 2012\n",
    "    geodetic_units: rad\n",
    "    height_units: m\n",
    "    proj_units: m\n",
    "    geoid_name: EGM08\n",
    "    ellipsoid_name: WGS84\n",
    "    height_relative_to: geoid\n",
    "    time_basis: UTC\n",
    "    proj_str: None\n",
    "    Minimum latitude       : 43.050372\n",
    "    Maximum latitude       : 43.050402\n",
    "    Minimum longitude      : -70.646248\n",
    "    Maximum longitude      : -70.646167\n",
    "    Minimum height         : 9.90m\n",
    "    Maximum height         : 11.30m\n",
    "    Start Time             : 2012-07-03 14:30:26\n",
    "    End Time               : 2012-07-03 14:30:26"
   ]
  },
  {
   "cell_type": "markdown",
   "metadata": {},
   "source": [
    "# 5 Create a Hotlink File\n",
    "\n",
    "The work is already done for you! Just add the following code to the `Position` class:\n",
    "    \n",
    "    def write_hotlink(self, hotlink_path):\n",
    "        \n",
    "        fullpath, _ = os.path.splitext(self.data_path)\n",
    "        \n",
    "        fullpath = fullpath + \"_pos.txt\"\n",
    "       \n",
    "        # Check the File's existence\n",
    "\n",
    "        if os.path.exists(fullpath):\n",
    "            # Let the user now we are overwriting an existing file\n",
    "            self.data_path = fullpath\n",
    "            print('Overwriting file: ' + fullpath)\n",
    "        else:  # Let the user know we are writing to a file\n",
    "            print('Writing to file: ' + fullpath)\n",
    "            \n",
    "        output_file = open(fullpath, mode=\"w\")  # mode=\"w\" to open the file in writing mode\n",
    "        \n",
    "        # Write the header\n",
    "\n",
    "        output_file.write('date time latitude longitude path\\n')\n",
    "        \n",
    "        # Determine the duration associated to the positions in this object\n",
    "        \n",
    "        start_time = min(self.times)\n",
    "        duration = max(self.times) - start_time\n",
    "    \n",
    "        # For each position write the date time longitude latitude path and fraction\n",
    "        \n",
    "        for i in range(0,len(self.times)):\n",
    "            fraction = (self.times[i] - start_time) / duration\n",
    "            line_content=str(self.times[i]) \\\n",
    "            + \" %012.8f %013.8f %s?%f\\n\" % \\\n",
    "            (self.latitudes[i], self.longitudes[i], hotlink_path, fraction)\n",
    "            output_file.write(line_content)"
   ]
  },
  {
   "cell_type": "code",
   "execution_count": 17,
   "metadata": {},
   "outputs": [
    {
     "name": "stdout",
     "output_type": "stream",
     "text": [
      "Opening GNSS data file:/home/jupyter-semmed/ESCI_872/Data/000_1133.RAW\n",
      "HYPACK RAW Header start time and date: Tue Jul  3 11:33:37 2012\n",
      "Overwriting file: /home/jupyter-semmed/ESCI_872/Data/000_1133_pos.txt\n",
      "geodetic_units: rad\n",
      "height_units: m\n",
      "proj_units: m\n",
      "geoid_name: EGM08\n",
      "ellipsoid_name: WGS84\n",
      "height_relative_to: geoid\n",
      "time_basis: UTC\n",
      "proj_str: None\n",
      "Minimum latitude       : 43.051963\n",
      "Maximum latitude       : 43.052063\n",
      "Minimum longitude      : -70.641482\n",
      "Maximum longitude      : -70.641247\n",
      "Minimum height         : 9.40m\n",
      "Maximum height         : 10.70m\n",
      "Start Time             : 2012-07-03 15:34:56\n",
      "End Time               : 2012-07-03 15:34:56\n",
      "\n"
     ]
    }
   ],
   "source": [
    "positions = Position()\n",
    "positions.read_hypack_raw_file(abs_path+'/Data/000_1133.RAW')\n",
    "positions.write_hotlink('Video\\\\v_3.abc')\n",
    "print(positions)"
   ]
  },
  {
   "cell_type": "markdown",
   "metadata": {},
   "source": []
  },
  {
   "cell_type": "markdown",
   "metadata": {},
   "source": [
    "***\n",
    "\n",
    "# 6 Teams\n",
    "\n",
    "In the General channel of 872 on Teams post a message discussing a single aspect of this assignment"
   ]
  },
  {
   "cell_type": "markdown",
   "metadata": {},
   "source": [
    "<img align=\"left\" width=\"6%\" style=\"padding-right:10px; padding-top:10px;\" src=\"Images/refs.png\">\n",
    "\n",
    "## Useful References"
   ]
  },
  {
   "cell_type": "markdown",
   "metadata": {},
   "source": [
    "* [The official Python 3.9 documentation](https://docs.python.org/3.9/)\n",
    "  * [Classes](https://docs.python.org/3.9/tutorial/classes.html)\n",
    "  * [String Representation Method](https://docs.python.org/3.9/reference/datamodel.html?highlight=repr#object.__str__)\n",
    "* [Memory address](https://en.wikipedia.org/wiki/Memory_address)\n",
    "* [ePOM: Programming Basics with Python](https://github.com/hydroffice/python_basics)\n",
    "* [ePOM: Foundations of Ocean Data Science](https://github.com/hydroffice/ocean_data_science)\n",
    "* [NMEA-0183](https://www.nmea.org/content/STANDARDS/NMEA_0183_Standard)\n",
    "* [WGS84](https://earth-info.nga.mil/index.php?dir=wgs84&action=wgs84)\n",
    "* [Chart Datum](https://tidesandcurrents.noaa.gov/datum_options.html)\n"
   ]
  },
  {
   "cell_type": "markdown",
   "metadata": {},
   "source": [
    "<img align=\"left\" width=\"5%\" style=\"padding-right:10px;\" src=\"Images/email.png\">\n",
    "\n",
    "*For issues or suggestions related to this notebook that should not be addressed on Teams, write to: semmed@ccom.unh.edu*"
   ]
  },
  {
   "cell_type": "markdown",
   "metadata": {},
   "source": [
    "Python code and Notebook implementation by Semme J. Dijkstra"
   ]
  },
  {
   "cell_type": "code",
   "execution_count": null,
   "metadata": {},
   "outputs": [],
   "source": []
  },
  {
   "cell_type": "code",
   "execution_count": null,
   "metadata": {},
   "outputs": [],
   "source": []
  }
 ],
 "metadata": {
  "kernelspec": {
   "display_name": "Python 3 (ipykernel)",
   "language": "python",
   "name": "python3"
  },
  "language_info": {
   "codemirror_mode": {
    "name": "ipython",
    "version": 3
   },
   "file_extension": ".py",
   "mimetype": "text/x-python",
   "name": "python",
   "nbconvert_exporter": "python",
   "pygments_lexer": "ipython3",
   "version": "3.9.7"
  }
 },
 "nbformat": 4,
 "nbformat_minor": 2
}
